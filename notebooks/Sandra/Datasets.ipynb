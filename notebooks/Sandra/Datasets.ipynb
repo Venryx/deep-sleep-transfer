{
 "cells": [
  {
   "cell_type": "code",
   "execution_count": 32,
   "metadata": {},
   "outputs": [],
   "source": [
    "import csv\n",
    "import os"
   ]
  },
  {
   "cell_type": "code",
   "execution_count": 33,
   "metadata": {},
   "outputs": [
    {
     "name": "stdout",
     "output_type": "stream",
     "text": [
      "['Record', 'Sex', 'Age']\n",
      "[['te03-0024', 'M', '31'], ['te03-0031', 'M', '55'], ['te03-0032', 'M', '50'], ['te03-0037', 'M', '44'], ['te03-0041', 'F', '54']]\n"
     ]
    }
   ],
   "source": [
    "#read csv with age and sex of all records\n",
    "path_csv = \"C:/Users/sa6pr7/Desktop/Bachelorarbeit/Datensätze/physionet_age-sex.csv\"\n",
    "with open(path_csv, newline='') as f:\n",
    "    reader = csv.reader(f)\n",
    "    all_records = list(reader)\n",
    "headers = all_records[0]\n",
    "all_records = all_records[1:]\n",
    "\n",
    "print(headers)\n",
    "print(all_records[:5])"
   ]
  },
  {
   "cell_type": "code",
   "execution_count": 34,
   "metadata": {},
   "outputs": [],
   "source": [
    "#tr=training, te=test"
   ]
  },
  {
   "cell_type": "code",
   "execution_count": 35,
   "metadata": {},
   "outputs": [],
   "source": [
    "#select first 300 = our subset"
   ]
  },
  {
   "cell_type": "code",
   "execution_count": 36,
   "metadata": {},
   "outputs": [
    {
     "name": "stdout",
     "output_type": "stream",
     "text": [
      "Found 795 Samples\n"
     ]
    },
    {
     "data": {
      "text/plain": [
       "['tr03-0029', 'tr03-0061', 'tr03-0078', 'tr03-0079', 'tr03-0083']"
      ]
     },
     "execution_count": 36,
     "metadata": {},
     "output_type": "execute_result"
    }
   ],
   "source": [
    "#read directories to get our train samples\n",
    "path_train = \"D:/physionet_challenge/processed/sa6pr7/training/iitnet_0\"\n",
    "folders_train_dir = os.scandir(path_train)\n",
    "folders_train_list = list([])\n",
    "\n",
    "for x in folders_train_dir:\n",
    "    folders_train_list.append(x.name)\n",
    "\n",
    "print(\"Found\", str(len(folders_train_list)), \"Samples\")\n",
    "folders_train_list[:5]"
   ]
  },
  {
   "cell_type": "code",
   "execution_count": 37,
   "metadata": {},
   "outputs": [
    {
     "name": "stdout",
     "output_type": "stream",
     "text": [
      "Found 199 Samples\n"
     ]
    },
    {
     "data": {
      "text/plain": [
       "['tr03-0005', 'tr03-0052', 'tr03-0092', 'tr03-0100', 'tr03-0103']"
      ]
     },
     "execution_count": 37,
     "metadata": {},
     "output_type": "execute_result"
    }
   ],
   "source": [
    "#read directories to get our test samples\n",
    "path_test = \"D:/physionet_challenge/processed/sa6pr7/test/iitnet_0\"\n",
    "folders_test_dir = os.scandir(path_test)\n",
    "folders_test_list = list([])\n",
    "\n",
    "for x in folders_test_dir:\n",
    "    folders_test_list.append(x.name)\n",
    "\n",
    "print(\"Found\", str(len(folders_test_list)), \"Samples\")\n",
    "folders_test_list[:5]"
   ]
  },
  {
   "cell_type": "code",
   "execution_count": 38,
   "metadata": {},
   "outputs": [
    {
     "data": {
      "text/plain": [
       "[['tr03-0005', 'M', '59', 'test'],\n",
       " ['tr03-0029', 'M', '55', 'train'],\n",
       " ['tr03-0052', 'F', '46', 'test'],\n",
       " ['tr03-0061', 'M', '43', 'train'],\n",
       " ['tr03-0078', 'F', '47', 'train']]"
      ]
     },
     "execution_count": 38,
     "metadata": {},
     "output_type": "execute_result"
    }
   ],
   "source": [
    "#add tag for every report (train/test)\n",
    "tagged_samples = []\n",
    "for sample in all_records:\n",
    "    sample_name = sample[0]\n",
    "    if sample_name in folders_train_list:\n",
    "        sample.append(\"train\")\n",
    "        tagged_samples.append(sample)\n",
    "    elif sample_name in folders_test_list:\n",
    "        sample.append(\"test\")\n",
    "        tagged_samples.append(sample)\n",
    "\n",
    "tagged_samples[:5]"
   ]
  },
  {
   "cell_type": "code",
   "execution_count": null,
   "metadata": {},
   "outputs": [],
   "source": [
    "#save that csv\n",
    "save_path = \"C:/Users/sa6pr7/Desktop/Bachelorarbeit/Datensätze/physionet_age-sex_training.csv\"\n",
    "headers.append('Subset')"
   ]
  },
  {
   "cell_type": "code",
   "execution_count": 40,
   "metadata": {},
   "outputs": [],
   "source": [
    "with open(save_path,'w') as f:\n",
    "    writer = csv.writer(f,lineterminator=\"\\n\")\n",
    "    writer.writerow(headers)\n",
    "    writer.writerows(tagged_samples)"
   ]
  },
  {
   "cell_type": "code",
   "execution_count": null,
   "metadata": {},
   "outputs": [],
   "source": []
  }
 ],
 "metadata": {
  "kernelspec": {
   "display_name": "Python 3",
   "language": "python",
   "name": "python3"
  },
  "language_info": {
   "codemirror_mode": {
    "name": "ipython",
    "version": 3
   },
   "file_extension": ".py",
   "mimetype": "text/x-python",
   "name": "python",
   "nbconvert_exporter": "python",
   "pygments_lexer": "ipython3",
   "version": "3.6.9"
  }
 },
 "nbformat": 4,
 "nbformat_minor": 4
}
