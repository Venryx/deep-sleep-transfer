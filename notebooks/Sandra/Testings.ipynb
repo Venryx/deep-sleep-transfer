{
 "cells": [
  {
   "cell_type": "code",
   "execution_count": 1,
   "metadata": {
    "ExecuteTime": {
     "end_time": "2020-06-29T15:27:12.390560Z",
     "start_time": "2020-06-29T15:27:00.590083Z"
    }
   },
   "outputs": [
    {
     "name": "stderr",
     "output_type": "stream",
     "text": [
      "Using TensorFlow backend.\n"
     ]
    }
   ],
   "source": [
    "import pickle\n",
    "import numpy as np\n",
    "import os\n",
    "import keras"
   ]
  },
  {
   "cell_type": "code",
   "execution_count": 3,
   "metadata": {
    "ExecuteTime": {
     "end_time": "2020-06-29T15:33:34.098426Z",
     "start_time": "2020-06-29T15:33:26.044657Z"
    }
   },
   "outputs": [
    {
     "name": "stdout",
     "output_type": "stream",
     "text": [
      "WARNING:tensorflow:Large dropout rate: 0.7 (>0.5). In TensorFlow 2.x, dropout() uses dropout rate instead of keep_prob. Please ensure that this is intended.\n",
      "WARNING:tensorflow:Large dropout rate: 0.7 (>0.5). In TensorFlow 2.x, dropout() uses dropout rate instead of keep_prob. Please ensure that this is intended.\n",
      "WARNING:tensorflow:Large dropout rate: 0.7 (>0.5). In TensorFlow 2.x, dropout() uses dropout rate instead of keep_prob. Please ensure that this is intended.\n",
      "WARNING:tensorflow:Large dropout rate: 0.7 (>0.5). In TensorFlow 2.x, dropout() uses dropout rate instead of keep_prob. Please ensure that this is intended.\n",
      "WARNING:tensorflow:Large dropout rate: 0.7 (>0.5). In TensorFlow 2.x, dropout() uses dropout rate instead of keep_prob. Please ensure that this is intended.\n",
      "Model: \"IITNet\"\n",
      "__________________________________________________________________________________________________\n",
      "Layer (type)                    Output Shape         Param #     Connected to                     \n",
      "==================================================================================================\n",
      "input_1 (InputLayer)            (None, 1100, 1)      0                                            \n",
      "__________________________________________________________________________________________________\n",
      "input_2 (InputLayer)            (None, 1100, 1)      0                                            \n",
      "__________________________________________________________________________________________________\n",
      "input_3 (InputLayer)            (None, 1100, 1)      0                                            \n",
      "__________________________________________________________________________________________________\n",
      "input_4 (InputLayer)            (None, 1100, 1)      0                                            \n",
      "__________________________________________________________________________________________________\n",
      "input_5 (InputLayer)            (None, 1100, 1)      0                                            \n",
      "__________________________________________________________________________________________________\n",
      "input_6 (InputLayer)            (None, 1100, 1)      0                                            \n",
      "__________________________________________________________________________________________________\n",
      "input_7 (InputLayer)            (None, 1100, 1)      0                                            \n",
      "__________________________________________________________________________________________________\n",
      "input_8 (InputLayer)            (None, 1100, 1)      0                                            \n",
      "__________________________________________________________________________________________________\n",
      "input_9 (InputLayer)            (None, 1100, 1)      0                                            \n",
      "__________________________________________________________________________________________________\n",
      "zero_padding1d_1 (ZeroPadding1D (None, 1106, 1)      0           input_1[0][0]                    \n",
      "                                                                 input_2[0][0]                    \n",
      "                                                                 input_3[0][0]                    \n",
      "                                                                 input_4[0][0]                    \n",
      "                                                                 input_5[0][0]                    \n",
      "                                                                 input_6[0][0]                    \n",
      "                                                                 input_7[0][0]                    \n",
      "                                                                 input_8[0][0]                    \n",
      "                                                                 input_9[0][0]                    \n",
      "__________________________________________________________________________________________________\n",
      "conv1d_1 (Conv1D)               (None, 1105, 8)      24          zero_padding1d_1[0][0]           \n",
      "                                                                 zero_padding1d_1[1][0]           \n",
      "                                                                 zero_padding1d_1[2][0]           \n",
      "                                                                 zero_padding1d_1[3][0]           \n",
      "                                                                 zero_padding1d_1[4][0]           \n",
      "                                                                 zero_padding1d_1[5][0]           \n",
      "                                                                 zero_padding1d_1[6][0]           \n",
      "                                                                 zero_padding1d_1[7][0]           \n",
      "                                                                 zero_padding1d_1[8][0]           \n",
      "__________________________________________________________________________________________________\n",
      "batch_normalization_1 (BatchNor (None, 1105, 8)      32          conv1d_1[0][0]                   \n",
      "                                                                 conv1d_1[1][0]                   \n",
      "                                                                 conv1d_1[2][0]                   \n",
      "                                                                 conv1d_1[3][0]                   \n",
      "                                                                 conv1d_1[4][0]                   \n",
      "                                                                 conv1d_1[5][0]                   \n",
      "                                                                 conv1d_1[6][0]                   \n",
      "                                                                 conv1d_1[7][0]                   \n",
      "                                                                 conv1d_1[8][0]                   \n",
      "__________________________________________________________________________________________________\n",
      "activation_1 (Activation)       (None, 1105, 8)      0           batch_normalization_1[0][0]      \n",
      "                                                                 batch_normalization_1[1][0]      \n",
      "                                                                 batch_normalization_1[2][0]      \n",
      "                                                                 batch_normalization_1[3][0]      \n",
      "                                                                 batch_normalization_1[4][0]      \n",
      "                                                                 batch_normalization_1[5][0]      \n",
      "                                                                 batch_normalization_1[6][0]      \n",
      "                                                                 batch_normalization_1[7][0]      \n",
      "                                                                 batch_normalization_1[8][0]      \n",
      "__________________________________________________________________________________________________\n",
      "zero_padding1d_2 (ZeroPadding1D (None, 1107, 8)      0           activation_1[0][0]               \n",
      "                                                                 activation_1[1][0]               \n",
      "                                                                 activation_1[2][0]               \n",
      "                                                                 activation_1[3][0]               \n",
      "                                                                 activation_1[4][0]               \n",
      "                                                                 activation_1[5][0]               \n",
      "                                                                 activation_1[6][0]               \n",
      "                                                                 activation_1[7][0]               \n",
      "                                                                 activation_1[8][0]               \n",
      "__________________________________________________________________________________________________\n",
      "max_pooling1d_1 (MaxPooling1D)  (None, 553, 8)       0           zero_padding1d_2[0][0]           \n",
      "                                                                 zero_padding1d_2[1][0]           \n",
      "                                                                 zero_padding1d_2[2][0]           \n",
      "                                                                 zero_padding1d_2[3][0]           \n",
      "                                                                 zero_padding1d_2[4][0]           \n",
      "                                                                 zero_padding1d_2[5][0]           \n",
      "                                                                 zero_padding1d_2[6][0]           \n",
      "                                                                 zero_padding1d_2[7][0]           \n",
      "                                                                 zero_padding1d_2[8][0]           \n",
      "__________________________________________________________________________________________________\n",
      "conv1d_3 (Conv1D)               (None, 553, 8)       72          max_pooling1d_1[0][0]            \n",
      "                                                                 max_pooling1d_1[1][0]            \n",
      "                                                                 max_pooling1d_1[2][0]            \n",
      "                                                                 max_pooling1d_1[3][0]            \n",
      "                                                                 max_pooling1d_1[4][0]            \n",
      "                                                                 max_pooling1d_1[5][0]            \n",
      "                                                                 max_pooling1d_1[6][0]            \n",
      "                                                                 max_pooling1d_1[7][0]            \n",
      "                                                                 max_pooling1d_1[8][0]            \n",
      "__________________________________________________________________________________________________\n",
      "batch_normalization_3 (BatchNor (None, 553, 8)       32          conv1d_3[0][0]                   \n",
      "                                                                 conv1d_3[1][0]                   \n",
      "                                                                 conv1d_3[2][0]                   \n",
      "                                                                 conv1d_3[3][0]                   \n",
      "                                                                 conv1d_3[4][0]                   \n",
      "                                                                 conv1d_3[5][0]                   \n",
      "                                                                 conv1d_3[6][0]                   \n",
      "                                                                 conv1d_3[7][0]                   \n",
      "                                                                 conv1d_3[8][0]                   \n",
      "__________________________________________________________________________________________________\n",
      "activation_2 (Activation)       (None, 553, 8)       0           batch_normalization_3[0][0]      \n",
      "                                                                 batch_normalization_3[1][0]      \n",
      "                                                                 batch_normalization_3[2][0]      \n",
      "                                                                 batch_normalization_3[3][0]      \n",
      "                                                                 batch_normalization_3[4][0]      \n",
      "                                                                 batch_normalization_3[5][0]      \n",
      "                                                                 batch_normalization_3[6][0]      \n",
      "                                                                 batch_normalization_3[7][0]      \n",
      "                                                                 batch_normalization_3[8][0]      \n",
      "__________________________________________________________________________________________________\n",
      "conv1d_4 (Conv1D)               (None, 553, 8)       200         activation_2[0][0]               \n",
      "                                                                 activation_2[1][0]               \n",
      "                                                                 activation_2[2][0]               \n",
      "                                                                 activation_2[3][0]               \n",
      "                                                                 activation_2[4][0]               \n",
      "                                                                 activation_2[5][0]               \n",
      "                                                                 activation_2[6][0]               \n",
      "                                                                 activation_2[7][0]               \n",
      "                                                                 activation_2[8][0]               \n",
      "__________________________________________________________________________________________________\n",
      "batch_normalization_4 (BatchNor (None, 553, 8)       32          conv1d_4[0][0]                   \n",
      "                                                                 conv1d_4[1][0]                   \n",
      "                                                                 conv1d_4[2][0]                   \n",
      "                                                                 conv1d_4[3][0]                   \n",
      "                                                                 conv1d_4[4][0]                   \n",
      "                                                                 conv1d_4[5][0]                   \n",
      "                                                                 conv1d_4[6][0]                   \n",
      "                                                                 conv1d_4[7][0]                   \n",
      "                                                                 conv1d_4[8][0]                   \n",
      "__________________________________________________________________________________________________\n",
      "activation_3 (Activation)       (None, 553, 8)       0           batch_normalization_4[0][0]      \n",
      "                                                                 batch_normalization_4[1][0]      \n",
      "                                                                 batch_normalization_4[2][0]      \n",
      "                                                                 batch_normalization_4[3][0]      \n",
      "                                                                 batch_normalization_4[4][0]      \n",
      "                                                                 batch_normalization_4[5][0]      \n",
      "                                                                 batch_normalization_4[6][0]      \n",
      "                                                                 batch_normalization_4[7][0]      \n",
      "                                                                 batch_normalization_4[8][0]      \n",
      "__________________________________________________________________________________________________\n",
      "conv1d_2 (Conv1D)               (None, 553, 16)      144         max_pooling1d_1[0][0]            \n",
      "                                                                 max_pooling1d_1[1][0]            \n",
      "                                                                 max_pooling1d_1[2][0]            \n",
      "                                                                 max_pooling1d_1[3][0]            \n",
      "                                                                 max_pooling1d_1[4][0]            \n",
      "                                                                 max_pooling1d_1[5][0]            \n",
      "                                                                 max_pooling1d_1[6][0]            \n",
      "                                                                 max_pooling1d_1[7][0]            \n",
      "                                                                 max_pooling1d_1[8][0]            \n",
      "__________________________________________________________________________________________________\n",
      "conv1d_5 (Conv1D)               (None, 553, 16)      144         activation_3[0][0]               \n",
      "                                                                 activation_3[1][0]               \n",
      "                                                                 activation_3[2][0]               \n",
      "                                                                 activation_3[3][0]               \n",
      "                                                                 activation_3[4][0]               \n",
      "                                                                 activation_3[5][0]               \n",
      "                                                                 activation_3[6][0]               \n",
      "                                                                 activation_3[7][0]               \n",
      "                                                                 activation_3[8][0]               \n",
      "__________________________________________________________________________________________________\n",
      "batch_normalization_2 (BatchNor (None, 553, 16)      64          conv1d_2[0][0]                   \n",
      "                                                                 conv1d_2[1][0]                   \n",
      "                                                                 conv1d_2[2][0]                   \n",
      "                                                                 conv1d_2[3][0]                   \n",
      "                                                                 conv1d_2[4][0]                   \n",
      "                                                                 conv1d_2[5][0]                   \n",
      "                                                                 conv1d_2[6][0]                   \n",
      "                                                                 conv1d_2[7][0]                   \n",
      "                                                                 conv1d_2[8][0]                   \n",
      "__________________________________________________________________________________________________\n",
      "batch_normalization_5 (BatchNor (None, 553, 16)      64          conv1d_5[0][0]                   \n",
      "                                                                 conv1d_5[1][0]                   \n",
      "                                                                 conv1d_5[2][0]                   \n",
      "                                                                 conv1d_5[3][0]                   \n",
      "                                                                 conv1d_5[4][0]                   \n",
      "                                                                 conv1d_5[5][0]                   \n",
      "                                                                 conv1d_5[6][0]                   \n",
      "                                                                 conv1d_5[7][0]                   \n",
      "                                                                 conv1d_5[8][0]                   \n",
      "__________________________________________________________________________________________________\n",
      "add_1 (Add)                     (None, 553, 16)      0           batch_normalization_2[0][0]      \n",
      "                                                                 batch_normalization_5[0][0]      \n",
      "__________________________________________________________________________________________________\n",
      "add_5 (Add)                     (None, 553, 16)      0           batch_normalization_2[1][0]      \n",
      "                                                                 batch_normalization_5[1][0]      \n",
      "__________________________________________________________________________________________________\n",
      "add_9 (Add)                     (None, 553, 16)      0           batch_normalization_2[2][0]      \n",
      "                                                                 batch_normalization_5[2][0]      \n",
      "__________________________________________________________________________________________________\n",
      "add_13 (Add)                    (None, 553, 16)      0           batch_normalization_2[3][0]      \n",
      "                                                                 batch_normalization_5[3][0]      \n",
      "__________________________________________________________________________________________________\n",
      "add_17 (Add)                    (None, 553, 16)      0           batch_normalization_2[4][0]      \n",
      "                                                                 batch_normalization_5[4][0]      \n",
      "__________________________________________________________________________________________________\n",
      "add_21 (Add)                    (None, 553, 16)      0           batch_normalization_2[5][0]      \n",
      "                                                                 batch_normalization_5[5][0]      \n",
      "__________________________________________________________________________________________________\n",
      "add_25 (Add)                    (None, 553, 16)      0           batch_normalization_2[6][0]      \n",
      "                                                                 batch_normalization_5[6][0]      \n",
      "__________________________________________________________________________________________________\n",
      "add_29 (Add)                    (None, 553, 16)      0           batch_normalization_2[7][0]      \n",
      "                                                                 batch_normalization_5[7][0]      \n",
      "__________________________________________________________________________________________________\n",
      "add_33 (Add)                    (None, 553, 16)      0           batch_normalization_2[8][0]      \n",
      "                                                                 batch_normalization_5[8][0]      \n",
      "__________________________________________________________________________________________________\n",
      "activation_4 (Activation)       (None, 553, 16)      0           add_1[0][0]                      \n",
      "                                                                 add_5[0][0]                      \n",
      "                                                                 add_9[0][0]                      \n",
      "                                                                 add_13[0][0]                     \n",
      "                                                                 add_17[0][0]                     \n",
      "                                                                 add_21[0][0]                     \n",
      "                                                                 add_25[0][0]                     \n",
      "                                                                 add_29[0][0]                     \n",
      "                                                                 add_33[0][0]                     \n",
      "__________________________________________________________________________________________________\n",
      "conv1d_13 (Conv1D)              (None, 277, 16)      272         activation_4[0][0]               \n",
      "                                                                 activation_4[1][0]               \n",
      "                                                                 activation_4[2][0]               \n",
      "                                                                 activation_4[3][0]               \n",
      "                                                                 activation_4[4][0]               \n",
      "                                                                 activation_4[5][0]               \n",
      "                                                                 activation_4[6][0]               \n",
      "                                                                 activation_4[7][0]               \n",
      "                                                                 activation_4[8][0]               \n",
      "__________________________________________________________________________________________________\n",
      "batch_normalization_13 (BatchNo (None, 277, 16)      64          conv1d_13[0][0]                  \n",
      "                                                                 conv1d_13[1][0]                  \n",
      "                                                                 conv1d_13[2][0]                  \n",
      "                                                                 conv1d_13[3][0]                  \n",
      "                                                                 conv1d_13[4][0]                  \n",
      "                                                                 conv1d_13[5][0]                  \n",
      "                                                                 conv1d_13[6][0]                  \n",
      "                                                                 conv1d_13[7][0]                  \n",
      "                                                                 conv1d_13[8][0]                  \n",
      "__________________________________________________________________________________________________\n",
      "activation_11 (Activation)      (None, 277, 16)      0           batch_normalization_13[0][0]     \n",
      "                                                                 batch_normalization_13[1][0]     \n",
      "                                                                 batch_normalization_13[2][0]     \n",
      "                                                                 batch_normalization_13[3][0]     \n",
      "                                                                 batch_normalization_13[4][0]     \n",
      "                                                                 batch_normalization_13[5][0]     \n",
      "                                                                 batch_normalization_13[6][0]     \n",
      "                                                                 batch_normalization_13[7][0]     \n",
      "                                                                 batch_normalization_13[8][0]     \n",
      "__________________________________________________________________________________________________\n",
      "conv1d_14 (Conv1D)              (None, 277, 16)      784         activation_11[0][0]              \n",
      "                                                                 activation_11[1][0]              \n",
      "                                                                 activation_11[2][0]              \n",
      "                                                                 activation_11[3][0]              \n",
      "                                                                 activation_11[4][0]              \n",
      "                                                                 activation_11[5][0]              \n",
      "                                                                 activation_11[6][0]              \n",
      "                                                                 activation_11[7][0]              \n",
      "                                                                 activation_11[8][0]              \n",
      "__________________________________________________________________________________________________\n",
      "batch_normalization_14 (BatchNo (None, 277, 16)      64          conv1d_14[0][0]                  \n",
      "                                                                 conv1d_14[1][0]                  \n",
      "                                                                 conv1d_14[2][0]                  \n",
      "                                                                 conv1d_14[3][0]                  \n",
      "                                                                 conv1d_14[4][0]                  \n",
      "                                                                 conv1d_14[5][0]                  \n",
      "                                                                 conv1d_14[6][0]                  \n",
      "                                                                 conv1d_14[7][0]                  \n",
      "                                                                 conv1d_14[8][0]                  \n",
      "__________________________________________________________________________________________________\n",
      "activation_12 (Activation)      (None, 277, 16)      0           batch_normalization_14[0][0]     \n",
      "                                                                 batch_normalization_14[1][0]     \n",
      "                                                                 batch_normalization_14[2][0]     \n",
      "                                                                 batch_normalization_14[3][0]     \n",
      "                                                                 batch_normalization_14[4][0]     \n",
      "                                                                 batch_normalization_14[5][0]     \n",
      "                                                                 batch_normalization_14[6][0]     \n",
      "                                                                 batch_normalization_14[7][0]     \n",
      "                                                                 batch_normalization_14[8][0]     \n",
      "__________________________________________________________________________________________________\n",
      "conv1d_12 (Conv1D)              (None, 277, 32)      544         activation_4[0][0]               \n",
      "                                                                 activation_4[1][0]               \n",
      "                                                                 activation_4[2][0]               \n",
      "                                                                 activation_4[3][0]               \n",
      "                                                                 activation_4[4][0]               \n",
      "                                                                 activation_4[5][0]               \n",
      "                                                                 activation_4[6][0]               \n",
      "                                                                 activation_4[7][0]               \n",
      "                                                                 activation_4[8][0]               \n",
      "__________________________________________________________________________________________________\n",
      "conv1d_15 (Conv1D)              (None, 277, 32)      544         activation_12[0][0]              \n",
      "                                                                 activation_12[1][0]              \n",
      "                                                                 activation_12[2][0]              \n",
      "                                                                 activation_12[3][0]              \n",
      "                                                                 activation_12[4][0]              \n",
      "                                                                 activation_12[5][0]              \n",
      "                                                                 activation_12[6][0]              \n",
      "                                                                 activation_12[7][0]              \n",
      "                                                                 activation_12[8][0]              \n",
      "__________________________________________________________________________________________________\n",
      "batch_normalization_12 (BatchNo (None, 277, 32)      128         conv1d_12[0][0]                  \n",
      "                                                                 conv1d_12[1][0]                  \n",
      "                                                                 conv1d_12[2][0]                  \n",
      "                                                                 conv1d_12[3][0]                  \n",
      "                                                                 conv1d_12[4][0]                  \n",
      "                                                                 conv1d_12[5][0]                  \n",
      "                                                                 conv1d_12[6][0]                  \n",
      "                                                                 conv1d_12[7][0]                  \n",
      "                                                                 conv1d_12[8][0]                  \n",
      "__________________________________________________________________________________________________\n",
      "batch_normalization_15 (BatchNo (None, 277, 32)      128         conv1d_15[0][0]                  \n",
      "                                                                 conv1d_15[1][0]                  \n",
      "                                                                 conv1d_15[2][0]                  \n",
      "                                                                 conv1d_15[3][0]                  \n",
      "                                                                 conv1d_15[4][0]                  \n",
      "                                                                 conv1d_15[5][0]                  \n",
      "                                                                 conv1d_15[6][0]                  \n",
      "                                                                 conv1d_15[7][0]                  \n",
      "                                                                 conv1d_15[8][0]                  \n",
      "__________________________________________________________________________________________________\n",
      "add_2 (Add)                     (None, 277, 32)      0           batch_normalization_12[0][0]     \n",
      "                                                                 batch_normalization_15[0][0]     \n",
      "__________________________________________________________________________________________________\n",
      "add_6 (Add)                     (None, 277, 32)      0           batch_normalization_12[1][0]     \n",
      "                                                                 batch_normalization_15[1][0]     \n",
      "__________________________________________________________________________________________________\n",
      "add_10 (Add)                    (None, 277, 32)      0           batch_normalization_12[2][0]     \n",
      "                                                                 batch_normalization_15[2][0]     \n",
      "__________________________________________________________________________________________________\n",
      "add_14 (Add)                    (None, 277, 32)      0           batch_normalization_12[3][0]     \n",
      "                                                                 batch_normalization_15[3][0]     \n",
      "__________________________________________________________________________________________________\n",
      "add_18 (Add)                    (None, 277, 32)      0           batch_normalization_12[4][0]     \n",
      "                                                                 batch_normalization_15[4][0]     \n",
      "__________________________________________________________________________________________________\n",
      "add_22 (Add)                    (None, 277, 32)      0           batch_normalization_12[5][0]     \n",
      "                                                                 batch_normalization_15[5][0]     \n",
      "__________________________________________________________________________________________________\n",
      "add_26 (Add)                    (None, 277, 32)      0           batch_normalization_12[6][0]     \n",
      "                                                                 batch_normalization_15[6][0]     \n",
      "__________________________________________________________________________________________________\n",
      "add_30 (Add)                    (None, 277, 32)      0           batch_normalization_12[7][0]     \n",
      "                                                                 batch_normalization_15[7][0]     \n",
      "__________________________________________________________________________________________________\n",
      "add_34 (Add)                    (None, 277, 32)      0           batch_normalization_12[8][0]     \n",
      "                                                                 batch_normalization_15[8][0]     \n",
      "__________________________________________________________________________________________________\n",
      "activation_13 (Activation)      (None, 277, 32)      0           add_2[0][0]                      \n",
      "                                                                 add_6[0][0]                      \n",
      "                                                                 add_10[0][0]                     \n",
      "                                                                 add_14[0][0]                     \n",
      "                                                                 add_18[0][0]                     \n",
      "                                                                 add_22[0][0]                     \n",
      "                                                                 add_26[0][0]                     \n",
      "                                                                 add_30[0][0]                     \n",
      "                                                                 add_34[0][0]                     \n",
      "__________________________________________________________________________________________________\n",
      "max_pooling1d_2 (MaxPooling1D)  (None, 138, 32)      0           activation_13[0][0]              \n",
      "__________________________________________________________________________________________________\n",
      "max_pooling1d_3 (MaxPooling1D)  (None, 138, 32)      0           activation_13[1][0]              \n",
      "__________________________________________________________________________________________________\n",
      "max_pooling1d_4 (MaxPooling1D)  (None, 138, 32)      0           activation_13[2][0]              \n",
      "__________________________________________________________________________________________________\n",
      "max_pooling1d_5 (MaxPooling1D)  (None, 138, 32)      0           activation_13[3][0]              \n",
      "__________________________________________________________________________________________________\n",
      "max_pooling1d_6 (MaxPooling1D)  (None, 138, 32)      0           activation_13[4][0]              \n",
      "__________________________________________________________________________________________________\n",
      "max_pooling1d_7 (MaxPooling1D)  (None, 138, 32)      0           activation_13[5][0]              \n",
      "__________________________________________________________________________________________________\n",
      "max_pooling1d_8 (MaxPooling1D)  (None, 138, 32)      0           activation_13[6][0]              \n",
      "__________________________________________________________________________________________________\n",
      "max_pooling1d_9 (MaxPooling1D)  (None, 138, 32)      0           activation_13[7][0]              \n",
      "__________________________________________________________________________________________________\n",
      "max_pooling1d_10 (MaxPooling1D) (None, 138, 32)      0           activation_13[8][0]              \n",
      "__________________________________________________________________________________________________\n",
      "conv1d_26 (Conv1D)              (None, 69, 32)       1056        max_pooling1d_2[0][0]            \n",
      "                                                                 max_pooling1d_3[0][0]            \n",
      "                                                                 max_pooling1d_4[0][0]            \n",
      "                                                                 max_pooling1d_5[0][0]            \n",
      "                                                                 max_pooling1d_6[0][0]            \n",
      "                                                                 max_pooling1d_7[0][0]            \n",
      "                                                                 max_pooling1d_8[0][0]            \n",
      "                                                                 max_pooling1d_9[0][0]            \n",
      "                                                                 max_pooling1d_10[0][0]           \n",
      "__________________________________________________________________________________________________\n",
      "batch_normalization_26 (BatchNo (None, 69, 32)       128         conv1d_26[0][0]                  \n",
      "                                                                 conv1d_26[1][0]                  \n",
      "                                                                 conv1d_26[2][0]                  \n",
      "                                                                 conv1d_26[3][0]                  \n",
      "                                                                 conv1d_26[4][0]                  \n",
      "                                                                 conv1d_26[5][0]                  \n",
      "                                                                 conv1d_26[6][0]                  \n",
      "                                                                 conv1d_26[7][0]                  \n",
      "                                                                 conv1d_26[8][0]                  \n",
      "__________________________________________________________________________________________________\n",
      "activation_23 (Activation)      (None, 69, 32)       0           batch_normalization_26[0][0]     \n",
      "                                                                 batch_normalization_26[1][0]     \n",
      "                                                                 batch_normalization_26[2][0]     \n",
      "                                                                 batch_normalization_26[3][0]     \n",
      "                                                                 batch_normalization_26[4][0]     \n",
      "                                                                 batch_normalization_26[5][0]     \n",
      "                                                                 batch_normalization_26[6][0]     \n",
      "                                                                 batch_normalization_26[7][0]     \n",
      "                                                                 batch_normalization_26[8][0]     \n",
      "__________________________________________________________________________________________________\n",
      "conv1d_27 (Conv1D)              (None, 69, 32)       3104        activation_23[0][0]              \n",
      "                                                                 activation_23[1][0]              \n",
      "                                                                 activation_23[2][0]              \n",
      "                                                                 activation_23[3][0]              \n",
      "                                                                 activation_23[4][0]              \n",
      "                                                                 activation_23[5][0]              \n",
      "                                                                 activation_23[6][0]              \n",
      "                                                                 activation_23[7][0]              \n",
      "                                                                 activation_23[8][0]              \n",
      "__________________________________________________________________________________________________\n",
      "batch_normalization_27 (BatchNo (None, 69, 32)       128         conv1d_27[0][0]                  \n",
      "                                                                 conv1d_27[1][0]                  \n",
      "                                                                 conv1d_27[2][0]                  \n",
      "                                                                 conv1d_27[3][0]                  \n",
      "                                                                 conv1d_27[4][0]                  \n",
      "                                                                 conv1d_27[5][0]                  \n",
      "                                                                 conv1d_27[6][0]                  \n",
      "                                                                 conv1d_27[7][0]                  \n",
      "                                                                 conv1d_27[8][0]                  \n",
      "__________________________________________________________________________________________________\n",
      "activation_24 (Activation)      (None, 69, 32)       0           batch_normalization_27[0][0]     \n",
      "                                                                 batch_normalization_27[1][0]     \n",
      "                                                                 batch_normalization_27[2][0]     \n",
      "                                                                 batch_normalization_27[3][0]     \n",
      "                                                                 batch_normalization_27[4][0]     \n",
      "                                                                 batch_normalization_27[5][0]     \n",
      "                                                                 batch_normalization_27[6][0]     \n",
      "                                                                 batch_normalization_27[7][0]     \n",
      "                                                                 batch_normalization_27[8][0]     \n",
      "__________________________________________________________________________________________________\n",
      "conv1d_25 (Conv1D)              (None, 69, 64)       2112        max_pooling1d_2[0][0]            \n",
      "                                                                 max_pooling1d_3[0][0]            \n",
      "                                                                 max_pooling1d_4[0][0]            \n",
      "                                                                 max_pooling1d_5[0][0]            \n",
      "                                                                 max_pooling1d_6[0][0]            \n",
      "                                                                 max_pooling1d_7[0][0]            \n",
      "                                                                 max_pooling1d_8[0][0]            \n",
      "                                                                 max_pooling1d_9[0][0]            \n",
      "                                                                 max_pooling1d_10[0][0]           \n",
      "__________________________________________________________________________________________________\n",
      "conv1d_28 (Conv1D)              (None, 69, 64)       2112        activation_24[0][0]              \n",
      "                                                                 activation_24[1][0]              \n",
      "                                                                 activation_24[2][0]              \n",
      "                                                                 activation_24[3][0]              \n",
      "                                                                 activation_24[4][0]              \n",
      "                                                                 activation_24[5][0]              \n",
      "                                                                 activation_24[6][0]              \n",
      "                                                                 activation_24[7][0]              \n",
      "                                                                 activation_24[8][0]              \n",
      "__________________________________________________________________________________________________\n",
      "batch_normalization_25 (BatchNo (None, 69, 64)       256         conv1d_25[0][0]                  \n",
      "                                                                 conv1d_25[1][0]                  \n",
      "                                                                 conv1d_25[2][0]                  \n",
      "                                                                 conv1d_25[3][0]                  \n",
      "                                                                 conv1d_25[4][0]                  \n",
      "                                                                 conv1d_25[5][0]                  \n",
      "                                                                 conv1d_25[6][0]                  \n",
      "                                                                 conv1d_25[7][0]                  \n",
      "                                                                 conv1d_25[8][0]                  \n",
      "__________________________________________________________________________________________________\n",
      "batch_normalization_28 (BatchNo (None, 69, 64)       256         conv1d_28[0][0]                  \n",
      "                                                                 conv1d_28[1][0]                  \n",
      "                                                                 conv1d_28[2][0]                  \n",
      "                                                                 conv1d_28[3][0]                  \n",
      "                                                                 conv1d_28[4][0]                  \n",
      "                                                                 conv1d_28[5][0]                  \n",
      "                                                                 conv1d_28[6][0]                  \n",
      "                                                                 conv1d_28[7][0]                  \n",
      "                                                                 conv1d_28[8][0]                  \n",
      "__________________________________________________________________________________________________\n",
      "add_3 (Add)                     (None, 69, 64)       0           batch_normalization_25[0][0]     \n",
      "                                                                 batch_normalization_28[0][0]     \n",
      "__________________________________________________________________________________________________\n",
      "add_7 (Add)                     (None, 69, 64)       0           batch_normalization_25[1][0]     \n",
      "                                                                 batch_normalization_28[1][0]     \n",
      "__________________________________________________________________________________________________\n",
      "add_11 (Add)                    (None, 69, 64)       0           batch_normalization_25[2][0]     \n",
      "                                                                 batch_normalization_28[2][0]     \n",
      "__________________________________________________________________________________________________\n",
      "add_15 (Add)                    (None, 69, 64)       0           batch_normalization_25[3][0]     \n",
      "                                                                 batch_normalization_28[3][0]     \n",
      "__________________________________________________________________________________________________\n",
      "add_19 (Add)                    (None, 69, 64)       0           batch_normalization_25[4][0]     \n",
      "                                                                 batch_normalization_28[4][0]     \n",
      "__________________________________________________________________________________________________\n",
      "add_23 (Add)                    (None, 69, 64)       0           batch_normalization_25[5][0]     \n",
      "                                                                 batch_normalization_28[5][0]     \n",
      "__________________________________________________________________________________________________\n",
      "add_27 (Add)                    (None, 69, 64)       0           batch_normalization_25[6][0]     \n",
      "                                                                 batch_normalization_28[6][0]     \n",
      "__________________________________________________________________________________________________\n",
      "add_31 (Add)                    (None, 69, 64)       0           batch_normalization_25[7][0]     \n",
      "                                                                 batch_normalization_28[7][0]     \n",
      "__________________________________________________________________________________________________\n",
      "add_35 (Add)                    (None, 69, 64)       0           batch_normalization_25[8][0]     \n",
      "                                                                 batch_normalization_28[8][0]     \n",
      "__________________________________________________________________________________________________\n",
      "activation_25 (Activation)      (None, 69, 64)       0           add_3[0][0]                      \n",
      "                                                                 add_7[0][0]                      \n",
      "                                                                 add_11[0][0]                     \n",
      "                                                                 add_15[0][0]                     \n",
      "                                                                 add_19[0][0]                     \n",
      "                                                                 add_23[0][0]                     \n",
      "                                                                 add_27[0][0]                     \n",
      "                                                                 add_31[0][0]                     \n",
      "                                                                 add_35[0][0]                     \n",
      "__________________________________________________________________________________________________\n",
      "conv1d_45 (Conv1D)              (None, 35, 64)       4160        activation_25[0][0]              \n",
      "                                                                 activation_25[1][0]              \n",
      "                                                                 activation_25[2][0]              \n",
      "                                                                 activation_25[3][0]              \n",
      "                                                                 activation_25[4][0]              \n",
      "                                                                 activation_25[5][0]              \n",
      "                                                                 activation_25[6][0]              \n",
      "                                                                 activation_25[7][0]              \n",
      "                                                                 activation_25[8][0]              \n",
      "__________________________________________________________________________________________________\n",
      "batch_normalization_45 (BatchNo (None, 35, 64)       256         conv1d_45[0][0]                  \n",
      "                                                                 conv1d_45[1][0]                  \n",
      "                                                                 conv1d_45[2][0]                  \n",
      "                                                                 conv1d_45[3][0]                  \n",
      "                                                                 conv1d_45[4][0]                  \n",
      "                                                                 conv1d_45[5][0]                  \n",
      "                                                                 conv1d_45[6][0]                  \n",
      "                                                                 conv1d_45[7][0]                  \n",
      "                                                                 conv1d_45[8][0]                  \n",
      "__________________________________________________________________________________________________\n",
      "activation_41 (Activation)      (None, 35, 64)       0           batch_normalization_45[0][0]     \n",
      "                                                                 batch_normalization_45[1][0]     \n",
      "                                                                 batch_normalization_45[2][0]     \n",
      "                                                                 batch_normalization_45[3][0]     \n",
      "                                                                 batch_normalization_45[4][0]     \n",
      "                                                                 batch_normalization_45[5][0]     \n",
      "                                                                 batch_normalization_45[6][0]     \n",
      "                                                                 batch_normalization_45[7][0]     \n",
      "                                                                 batch_normalization_45[8][0]     \n",
      "__________________________________________________________________________________________________\n",
      "conv1d_46 (Conv1D)              (None, 35, 64)       12352       activation_41[0][0]              \n",
      "                                                                 activation_41[1][0]              \n",
      "                                                                 activation_41[2][0]              \n",
      "                                                                 activation_41[3][0]              \n",
      "                                                                 activation_41[4][0]              \n",
      "                                                                 activation_41[5][0]              \n",
      "                                                                 activation_41[6][0]              \n",
      "                                                                 activation_41[7][0]              \n",
      "                                                                 activation_41[8][0]              \n",
      "__________________________________________________________________________________________________\n",
      "batch_normalization_46 (BatchNo (None, 35, 64)       256         conv1d_46[0][0]                  \n",
      "                                                                 conv1d_46[1][0]                  \n",
      "                                                                 conv1d_46[2][0]                  \n",
      "                                                                 conv1d_46[3][0]                  \n",
      "                                                                 conv1d_46[4][0]                  \n",
      "                                                                 conv1d_46[5][0]                  \n",
      "                                                                 conv1d_46[6][0]                  \n",
      "                                                                 conv1d_46[7][0]                  \n",
      "                                                                 conv1d_46[8][0]                  \n",
      "__________________________________________________________________________________________________\n",
      "activation_42 (Activation)      (None, 35, 64)       0           batch_normalization_46[0][0]     \n",
      "                                                                 batch_normalization_46[1][0]     \n",
      "                                                                 batch_normalization_46[2][0]     \n",
      "                                                                 batch_normalization_46[3][0]     \n",
      "                                                                 batch_normalization_46[4][0]     \n",
      "                                                                 batch_normalization_46[5][0]     \n",
      "                                                                 batch_normalization_46[6][0]     \n",
      "                                                                 batch_normalization_46[7][0]     \n",
      "                                                                 batch_normalization_46[8][0]     \n",
      "__________________________________________________________________________________________________\n",
      "conv1d_44 (Conv1D)              (None, 35, 128)      8320        activation_25[0][0]              \n",
      "                                                                 activation_25[1][0]              \n",
      "                                                                 activation_25[2][0]              \n",
      "                                                                 activation_25[3][0]              \n",
      "                                                                 activation_25[4][0]              \n",
      "                                                                 activation_25[5][0]              \n",
      "                                                                 activation_25[6][0]              \n",
      "                                                                 activation_25[7][0]              \n",
      "                                                                 activation_25[8][0]              \n",
      "__________________________________________________________________________________________________\n",
      "conv1d_47 (Conv1D)              (None, 35, 128)      8320        activation_42[0][0]              \n",
      "                                                                 activation_42[1][0]              \n",
      "                                                                 activation_42[2][0]              \n",
      "                                                                 activation_42[3][0]              \n",
      "                                                                 activation_42[4][0]              \n",
      "                                                                 activation_42[5][0]              \n",
      "                                                                 activation_42[6][0]              \n",
      "                                                                 activation_42[7][0]              \n",
      "                                                                 activation_42[8][0]              \n",
      "__________________________________________________________________________________________________\n",
      "batch_normalization_44 (BatchNo (None, 35, 128)      512         conv1d_44[0][0]                  \n",
      "                                                                 conv1d_44[1][0]                  \n",
      "                                                                 conv1d_44[2][0]                  \n",
      "                                                                 conv1d_44[3][0]                  \n",
      "                                                                 conv1d_44[4][0]                  \n",
      "                                                                 conv1d_44[5][0]                  \n",
      "                                                                 conv1d_44[6][0]                  \n",
      "                                                                 conv1d_44[7][0]                  \n",
      "                                                                 conv1d_44[8][0]                  \n",
      "__________________________________________________________________________________________________\n",
      "batch_normalization_47 (BatchNo (None, 35, 128)      512         conv1d_47[0][0]                  \n",
      "                                                                 conv1d_47[1][0]                  \n",
      "                                                                 conv1d_47[2][0]                  \n",
      "                                                                 conv1d_47[3][0]                  \n",
      "                                                                 conv1d_47[4][0]                  \n",
      "                                                                 conv1d_47[5][0]                  \n",
      "                                                                 conv1d_47[6][0]                  \n",
      "                                                                 conv1d_47[7][0]                  \n",
      "                                                                 conv1d_47[8][0]                  \n",
      "__________________________________________________________________________________________________\n",
      "add_4 (Add)                     (None, 35, 128)      0           batch_normalization_44[0][0]     \n",
      "                                                                 batch_normalization_47[0][0]     \n",
      "__________________________________________________________________________________________________\n",
      "add_8 (Add)                     (None, 35, 128)      0           batch_normalization_44[1][0]     \n",
      "                                                                 batch_normalization_47[1][0]     \n",
      "__________________________________________________________________________________________________\n",
      "add_12 (Add)                    (None, 35, 128)      0           batch_normalization_44[2][0]     \n",
      "                                                                 batch_normalization_47[2][0]     \n",
      "__________________________________________________________________________________________________\n",
      "add_16 (Add)                    (None, 35, 128)      0           batch_normalization_44[3][0]     \n",
      "                                                                 batch_normalization_47[3][0]     \n",
      "__________________________________________________________________________________________________\n",
      "add_20 (Add)                    (None, 35, 128)      0           batch_normalization_44[4][0]     \n",
      "                                                                 batch_normalization_47[4][0]     \n",
      "__________________________________________________________________________________________________\n",
      "add_24 (Add)                    (None, 35, 128)      0           batch_normalization_44[5][0]     \n",
      "                                                                 batch_normalization_47[5][0]     \n",
      "__________________________________________________________________________________________________\n",
      "add_28 (Add)                    (None, 35, 128)      0           batch_normalization_44[6][0]     \n",
      "                                                                 batch_normalization_47[6][0]     \n",
      "__________________________________________________________________________________________________\n",
      "add_32 (Add)                    (None, 35, 128)      0           batch_normalization_44[7][0]     \n",
      "                                                                 batch_normalization_47[7][0]     \n",
      "__________________________________________________________________________________________________\n",
      "add_36 (Add)                    (None, 35, 128)      0           batch_normalization_44[8][0]     \n",
      "                                                                 batch_normalization_47[8][0]     \n",
      "__________________________________________________________________________________________________\n",
      "activation_43 (Activation)      (None, 35, 128)      0           add_4[0][0]                      \n",
      "                                                                 add_8[0][0]                      \n",
      "                                                                 add_12[0][0]                     \n",
      "                                                                 add_16[0][0]                     \n",
      "                                                                 add_20[0][0]                     \n",
      "                                                                 add_24[0][0]                     \n",
      "                                                                 add_28[0][0]                     \n",
      "                                                                 add_32[0][0]                     \n",
      "                                                                 add_36[0][0]                     \n",
      "__________________________________________________________________________________________________\n",
      "dropout_1 (Dropout)             (None, 35, 128)      0           activation_43[0][0]              \n",
      "__________________________________________________________________________________________________\n",
      "dropout_2 (Dropout)             (None, 35, 128)      0           activation_43[1][0]              \n",
      "__________________________________________________________________________________________________\n",
      "dropout_3 (Dropout)             (None, 35, 128)      0           activation_43[2][0]              \n",
      "__________________________________________________________________________________________________\n",
      "dropout_4 (Dropout)             (None, 35, 128)      0           activation_43[3][0]              \n",
      "__________________________________________________________________________________________________\n",
      "dropout_5 (Dropout)             (None, 35, 128)      0           activation_43[4][0]              \n",
      "__________________________________________________________________________________________________\n",
      "dropout_6 (Dropout)             (None, 35, 128)      0           activation_43[5][0]              \n",
      "__________________________________________________________________________________________________\n",
      "dropout_7 (Dropout)             (None, 35, 128)      0           activation_43[6][0]              \n",
      "__________________________________________________________________________________________________\n",
      "dropout_8 (Dropout)             (None, 35, 128)      0           activation_43[7][0]              \n",
      "__________________________________________________________________________________________________\n",
      "dropout_9 (Dropout)             (None, 35, 128)      0           activation_43[8][0]              \n",
      "__________________________________________________________________________________________________\n",
      "concatenate_1 (Concatenate)     (None, 35, 1152)     0           dropout_1[0][0]                  \n",
      "                                                                 dropout_2[0][0]                  \n",
      "                                                                 dropout_3[0][0]                  \n",
      "                                                                 dropout_4[0][0]                  \n",
      "                                                                 dropout_5[0][0]                  \n",
      "                                                                 dropout_6[0][0]                  \n",
      "                                                                 dropout_7[0][0]                  \n",
      "                                                                 dropout_8[0][0]                  \n",
      "                                                                 dropout_9[0][0]                  \n",
      "__________________________________________________________________________________________________\n",
      "bidirectional_1 (Bidirectional) (None, 35, 256)      1311744     concatenate_1[0][0]              \n",
      "__________________________________________________________________________________________________\n",
      "bidirectional_2 (Bidirectional) (None, 256)          394240      bidirectional_1[0][0]            \n",
      "__________________________________________________________________________________________________\n",
      "fc5 (Dense)                     (None, 5)            1285        bidirectional_2[0][0]            \n",
      "==================================================================================================\n",
      "Total params: 1,754,445\n",
      "Trainable params: 1,752,989\n",
      "Non-trainable params: 1,456\n",
      "__________________________________________________________________________________________________\n"
     ]
    },
    {
     "name": "stderr",
     "output_type": "stream",
     "text": [
      "C:\\Users\\sa6pr7\\Anaconda3\\envs\\jupyter_env\\lib\\site-packages\\keras\\engine\\saving.py:341: UserWarning: No training configuration found in save file: the model was *not* compiled. Compile it manually.\n",
      "  warnings.warn('No training configuration found in save file: '\n"
     ]
    }
   ],
   "source": [
    "model_path = \"C:/Users/sa6pr7/Desktop/Implementierung/Transfer_Learning/cpu_model.hdf5\"\n",
    "model = keras.models.load_model(model_path)\n",
    "model.summary()"
   ]
  },
  {
   "cell_type": "code",
   "execution_count": 5,
   "metadata": {
    "ExecuteTime": {
     "end_time": "2020-06-29T15:34:19.623094Z",
     "start_time": "2020-06-29T15:34:19.591865Z"
    }
   },
   "outputs": [
    {
     "data": {
      "text/plain": [
       "[<keras.engine.input_layer.InputLayer at 0x1ca0300fef0>,\n",
       " <keras.engine.input_layer.InputLayer at 0x1ca03024400>,\n",
       " <keras.engine.input_layer.InputLayer at 0x1ca030244a8>,\n",
       " <keras.engine.input_layer.InputLayer at 0x1ca030244e0>,\n",
       " <keras.engine.input_layer.InputLayer at 0x1ca03024518>,\n",
       " <keras.engine.input_layer.InputLayer at 0x1ca03024550>,\n",
       " <keras.engine.input_layer.InputLayer at 0x1ca030245c0>,\n",
       " <keras.engine.input_layer.InputLayer at 0x1ca03024b70>,\n",
       " <keras.engine.input_layer.InputLayer at 0x1ca030249e8>,\n",
       " <keras.layers.convolutional.ZeroPadding1D at 0x1ca03024cf8>,\n",
       " <keras.layers.convolutional.Conv1D at 0x1ca03024e10>,\n",
       " <keras.layers.normalization.BatchNormalization at 0x1ca0300ff60>,\n",
       " <keras.layers.core.Activation at 0x1ca03036320>,\n",
       " <keras.layers.convolutional.ZeroPadding1D at 0x1ca03036d30>,\n",
       " <keras.layers.pooling.MaxPooling1D at 0x1ca03036dd8>,\n",
       " <keras.layers.convolutional.Conv1D at 0x1ca03036c18>,\n",
       " <keras.layers.normalization.BatchNormalization at 0x1ca03036400>,\n",
       " <keras.layers.core.Activation at 0x1ca03024d30>,\n",
       " <keras.layers.convolutional.Conv1D at 0x1ca030390b8>,\n",
       " <keras.layers.normalization.BatchNormalization at 0x1ca03039128>,\n",
       " <keras.layers.core.Activation at 0x1ca03039438>,\n",
       " <keras.layers.convolutional.Conv1D at 0x1ca03039470>,\n",
       " <keras.layers.convolutional.Conv1D at 0x1ca03039630>,\n",
       " <keras.layers.normalization.BatchNormalization at 0x1ca030397f0>,\n",
       " <keras.layers.normalization.BatchNormalization at 0x1ca03039908>,\n",
       " <keras.layers.merge.Add at 0x1ca03039a20>,\n",
       " <keras.layers.merge.Add at 0x1ca03039a58>,\n",
       " <keras.layers.merge.Add at 0x1ca03039a90>,\n",
       " <keras.layers.merge.Add at 0x1ca03039ac8>,\n",
       " <keras.layers.merge.Add at 0x1ca03039b00>,\n",
       " <keras.layers.merge.Add at 0x1ca03039b38>,\n",
       " <keras.layers.merge.Add at 0x1ca03039b70>,\n",
       " <keras.layers.merge.Add at 0x1ca03039ba8>,\n",
       " <keras.layers.merge.Add at 0x1ca03039be0>,\n",
       " <keras.layers.core.Activation at 0x1ca03039c18>,\n",
       " <keras.layers.convolutional.Conv1D at 0x1ca03039c50>,\n",
       " <keras.layers.normalization.BatchNormalization at 0x1ca03039e10>,\n",
       " <keras.layers.core.Activation at 0x1ca03039f28>,\n",
       " <keras.layers.convolutional.Conv1D at 0x1ca03039f60>,\n",
       " <keras.layers.normalization.BatchNormalization at 0x1ca03049160>,\n",
       " <keras.layers.core.Activation at 0x1ca03049278>,\n",
       " <keras.layers.convolutional.Conv1D at 0x1ca030492b0>,\n",
       " <keras.layers.convolutional.Conv1D at 0x1ca03049470>,\n",
       " <keras.layers.normalization.BatchNormalization at 0x1ca03049630>,\n",
       " <keras.layers.normalization.BatchNormalization at 0x1ca03049748>,\n",
       " <keras.layers.merge.Add at 0x1ca03049860>,\n",
       " <keras.layers.merge.Add at 0x1ca03049898>,\n",
       " <keras.layers.merge.Add at 0x1ca030498d0>,\n",
       " <keras.layers.merge.Add at 0x1ca03049908>,\n",
       " <keras.layers.merge.Add at 0x1ca03049940>,\n",
       " <keras.layers.merge.Add at 0x1ca03049978>,\n",
       " <keras.layers.merge.Add at 0x1ca030499b0>,\n",
       " <keras.layers.merge.Add at 0x1ca030499e8>,\n",
       " <keras.layers.merge.Add at 0x1ca03049a20>,\n",
       " <keras.layers.core.Activation at 0x1ca03049a58>,\n",
       " <keras.layers.pooling.MaxPooling1D at 0x1ca03049a90>,\n",
       " <keras.layers.pooling.MaxPooling1D at 0x1ca03049b38>,\n",
       " <keras.layers.pooling.MaxPooling1D at 0x1ca03049be0>,\n",
       " <keras.layers.pooling.MaxPooling1D at 0x1ca03049c88>,\n",
       " <keras.layers.pooling.MaxPooling1D at 0x1ca03049d30>,\n",
       " <keras.layers.pooling.MaxPooling1D at 0x1ca03049dd8>,\n",
       " <keras.layers.pooling.MaxPooling1D at 0x1ca03049e80>,\n",
       " <keras.layers.pooling.MaxPooling1D at 0x1ca03049f28>,\n",
       " <keras.layers.pooling.MaxPooling1D at 0x1ca03036f60>,\n",
       " <keras.layers.convolutional.Conv1D at 0x1ca0304d0b8>,\n",
       " <keras.layers.normalization.BatchNormalization at 0x1ca0304d278>,\n",
       " <keras.layers.core.Activation at 0x1ca0304d390>,\n",
       " <keras.layers.convolutional.Conv1D at 0x1ca0304d3c8>,\n",
       " <keras.layers.normalization.BatchNormalization at 0x1ca0304d588>,\n",
       " <keras.layers.core.Activation at 0x1ca0304d6a0>,\n",
       " <keras.layers.convolutional.Conv1D at 0x1ca0304d6d8>,\n",
       " <keras.layers.convolutional.Conv1D at 0x1ca0304d898>,\n",
       " <keras.layers.normalization.BatchNormalization at 0x1ca0304da58>,\n",
       " <keras.layers.normalization.BatchNormalization at 0x1ca0304db70>,\n",
       " <keras.layers.merge.Add at 0x1ca0304dc88>,\n",
       " <keras.layers.merge.Add at 0x1ca0304dcc0>,\n",
       " <keras.layers.merge.Add at 0x1ca0304dcf8>,\n",
       " <keras.layers.merge.Add at 0x1ca0304dd30>,\n",
       " <keras.layers.merge.Add at 0x1ca0304dd68>,\n",
       " <keras.layers.merge.Add at 0x1ca0304dda0>,\n",
       " <keras.layers.merge.Add at 0x1ca0304ddd8>,\n",
       " <keras.layers.merge.Add at 0x1ca0304de10>,\n",
       " <keras.layers.merge.Add at 0x1ca0304de48>,\n",
       " <keras.layers.core.Activation at 0x1ca0304de80>,\n",
       " <keras.layers.convolutional.Conv1D at 0x1ca0304deb8>,\n",
       " <keras.layers.normalization.BatchNormalization at 0x1ca030520b8>,\n",
       " <keras.layers.core.Activation at 0x1ca030521d0>,\n",
       " <keras.layers.convolutional.Conv1D at 0x1ca03052208>,\n",
       " <keras.layers.normalization.BatchNormalization at 0x1ca030523c8>,\n",
       " <keras.layers.core.Activation at 0x1ca030524e0>,\n",
       " <keras.layers.convolutional.Conv1D at 0x1ca03052518>,\n",
       " <keras.layers.convolutional.Conv1D at 0x1ca030526d8>,\n",
       " <keras.layers.normalization.BatchNormalization at 0x1ca03052898>,\n",
       " <keras.layers.normalization.BatchNormalization at 0x1ca030529b0>,\n",
       " <keras.layers.merge.Add at 0x1ca03052ac8>,\n",
       " <keras.layers.merge.Add at 0x1ca03052b00>,\n",
       " <keras.layers.merge.Add at 0x1ca03052b38>,\n",
       " <keras.layers.merge.Add at 0x1ca03052b70>,\n",
       " <keras.layers.merge.Add at 0x1ca03052ba8>,\n",
       " <keras.layers.merge.Add at 0x1ca03052be0>,\n",
       " <keras.layers.merge.Add at 0x1ca03052c18>,\n",
       " <keras.layers.merge.Add at 0x1ca03052c50>,\n",
       " <keras.layers.merge.Add at 0x1ca03052c88>,\n",
       " <keras.layers.core.Activation at 0x1ca03052cc0>,\n",
       " <keras.layers.core.Dropout at 0x1ca03052cf8>,\n",
       " <keras.layers.core.Dropout at 0x1ca03052d30>,\n",
       " <keras.layers.core.Dropout at 0x1ca03052d68>,\n",
       " <keras.layers.core.Dropout at 0x1ca03052da0>,\n",
       " <keras.layers.core.Dropout at 0x1ca03052dd8>,\n",
       " <keras.layers.core.Dropout at 0x1ca03052e10>,\n",
       " <keras.layers.core.Dropout at 0x1ca03052e48>,\n",
       " <keras.layers.core.Dropout at 0x1ca03052e80>,\n",
       " <keras.layers.core.Dropout at 0x1ca03052eb8>,\n",
       " <keras.layers.merge.Concatenate at 0x1ca03052ef0>,\n",
       " <keras.layers.wrappers.Bidirectional at 0x1ca0300f7f0>,\n",
       " <keras.layers.wrappers.Bidirectional at 0x1ca0300f828>,\n",
       " <keras.layers.core.Dense at 0x1ca03058438>]"
      ]
     },
     "execution_count": 5,
     "metadata": {},
     "output_type": "execute_result"
    }
   ],
   "source": [
    "for layer in model.layers:\n",
    "    print layer.tr"
   ]
  },
  {
   "cell_type": "markdown",
   "metadata": {
    "heading_collapsed": true
   },
   "source": [
    "#### One Sample"
   ]
  },
  {
   "cell_type": "code",
   "execution_count": 7,
   "metadata": {
    "hidden": true
   },
   "outputs": [],
   "source": [
    "p = \"D:/physionet_challenge/processed/sa6pr7/training/iitnet_0/tr03-0029/distribution_matrix_preprocessed.pckl\""
   ]
  },
  {
   "cell_type": "code",
   "execution_count": 8,
   "metadata": {
    "hidden": true
   },
   "outputs": [],
   "source": [
    "dist = pickle.load( open( p, \"rb\" ) )"
   ]
  },
  {
   "cell_type": "code",
   "execution_count": 9,
   "metadata": {
    "hidden": true
   },
   "outputs": [
    {
     "data": {
      "text/plain": [
       "{'W': 335, 'N1': 134, 'N2': 304, 'N3': 21, 'R': 1}"
      ]
     },
     "execution_count": 9,
     "metadata": {},
     "output_type": "execute_result"
    }
   ],
   "source": [
    "dist"
   ]
  },
  {
   "cell_type": "markdown",
   "metadata": {
    "heading_collapsed": true
   },
   "source": [
    "#### Test array"
   ]
  },
  {
   "cell_type": "code",
   "execution_count": 3,
   "metadata": {
    "hidden": true
   },
   "outputs": [
    {
     "data": {
      "text/plain": [
       "array([5, 5, 5, 5])"
      ]
     },
     "execution_count": 3,
     "metadata": {},
     "output_type": "execute_result"
    }
   ],
   "source": [
    "array = np.full(4, 5)\n",
    "array"
   ]
  },
  {
   "cell_type": "code",
   "execution_count": 5,
   "metadata": {
    "hidden": true
   },
   "outputs": [
    {
     "data": {
      "text/plain": [
       "range(0, 1)"
      ]
     },
     "execution_count": 5,
     "metadata": {},
     "output_type": "execute_result"
    }
   ],
   "source": [
    "range(1,1)"
   ]
  },
  {
   "cell_type": "markdown",
   "metadata": {
    "heading_collapsed": true
   },
   "source": [
    "#### Complete directory of samples"
   ]
  },
  {
   "cell_type": "code",
   "execution_count": 121,
   "metadata": {
    "hidden": true
   },
   "outputs": [
    {
     "name": "stdout",
     "output_type": "stream",
     "text": [
      "found 9 folders in directory.\n"
     ]
    }
   ],
   "source": [
    "#p = \"D:/physionet_challenge/processed/sa6pr7/training/iitnet_0/\"\n",
    "#p = \"D:/physionet_challenge/processed/sa6pr7/test/iitnet_0/\"\n",
    "#p = \"D:/sleep-edf-v1/sleep-cassette/processed/training/iitnet_0/\"\n",
    "p = \"D:/sleep-edf-v1/sleep-cassette/processed/test/iitnet_0/\"\n",
    "\n",
    "samples = [ f.path for f in os.scandir(p) if f.is_dir() ]\n",
    "print(\"found\", str(len(samples)), \"folders in directory.\")"
   ]
  },
  {
   "cell_type": "code",
   "execution_count": 122,
   "metadata": {
    "hidden": true
   },
   "outputs": [],
   "source": [
    "samples = [f + \"/distribution_matrix_preprocessed.pckl\" for f in samples]"
   ]
  },
  {
   "cell_type": "code",
   "execution_count": 123,
   "metadata": {
    "hidden": true
   },
   "outputs": [],
   "source": [
    "dists = np.full((5), 0)    "
   ]
  },
  {
   "cell_type": "code",
   "execution_count": 81,
   "metadata": {
    "hidden": true
   },
   "outputs": [
    {
     "name": "stdout",
     "output_type": "stream",
     "text": [
      "5\n"
     ]
    }
   ],
   "source": [
    "missing_samples = 0\n",
    "for sample in samples:\n",
    "    dist = pickle.load( open( sample, \"rb\" ) )\n",
    "    dist_l = np.asarray(list(dist.values()))\n",
    "    nuller = 0\n",
    "    for label in dist_l:\n",
    "        if label == 0:\n",
    "            nuller += 1\n",
    "    if nuller == 2:\n",
    "        missing_samples += 1\n",
    "        \n",
    "print(missing_samples)"
   ]
  },
  {
   "cell_type": "code",
   "execution_count": 124,
   "metadata": {
    "hidden": true
   },
   "outputs": [],
   "source": [
    "for sample in samples[:9]:\n",
    "    dist = pickle.load( open( sample, \"rb\" ) )\n",
    "    dist_l = np.asarray(list(dist.values()))\n",
    "    dists = dists + dist_l"
   ]
  },
  {
   "cell_type": "code",
   "execution_count": 125,
   "metadata": {
    "hidden": true
   },
   "outputs": [
    {
     "data": {
      "text/plain": [
       "{'W': 331, 'N1': 337, 'N2': 327, 'N3': 57, 'R': 297}"
      ]
     },
     "execution_count": 125,
     "metadata": {},
     "output_type": "execute_result"
    }
   ],
   "source": [
    "dist"
   ]
  },
  {
   "cell_type": "code",
   "execution_count": 126,
   "metadata": {
    "hidden": true
   },
   "outputs": [
    {
     "data": {
      "text/plain": [
       "array([331, 337, 327,  57, 297])"
      ]
     },
     "execution_count": 126,
     "metadata": {},
     "output_type": "execute_result"
    }
   ],
   "source": [
    "dist_l"
   ]
  },
  {
   "cell_type": "code",
   "execution_count": 127,
   "metadata": {
    "hidden": true
   },
   "outputs": [
    {
     "data": {
      "text/plain": [
       "array([1151, 4379, 6432, 2716, 2741])"
      ]
     },
     "execution_count": 127,
     "metadata": {},
     "output_type": "execute_result"
    }
   ],
   "source": [
    "dists"
   ]
  },
  {
   "cell_type": "code",
   "execution_count": 128,
   "metadata": {
    "hidden": true
   },
   "outputs": [],
   "source": [
    "labels = dist.keys()"
   ]
  },
  {
   "cell_type": "code",
   "execution_count": 129,
   "metadata": {
    "hidden": true
   },
   "outputs": [
    {
     "data": {
      "text/plain": [
       "{'W': 1151, 'N1': 4379, 'N2': 6432, 'N3': 2716, 'R': 2741}"
      ]
     },
     "execution_count": 129,
     "metadata": {},
     "output_type": "execute_result"
    }
   ],
   "source": [
    "all_dists = dict(zip(labels, dists))\n",
    "all_dists"
   ]
  },
  {
   "cell_type": "code",
   "execution_count": 130,
   "metadata": {
    "hidden": true
   },
   "outputs": [
    {
     "data": {
      "text/plain": [
       "17419"
      ]
     },
     "execution_count": 130,
     "metadata": {},
     "output_type": "execute_result"
    }
   ],
   "source": [
    "sum_phases = sum(all_dists.values())\n",
    "sum_phases"
   ]
  },
  {
   "cell_type": "code",
   "execution_count": 131,
   "metadata": {
    "hidden": true
   },
   "outputs": [
    {
     "data": {
      "text/plain": [
       "array([0.06607727, 0.25139216, 0.36925197, 0.15592169, 0.15735691])"
      ]
     },
     "execution_count": 131,
     "metadata": {},
     "output_type": "execute_result"
    }
   ],
   "source": [
    "percentages = np.array([x/sum_phases for x in all_dists.values()])\n",
    "percentages"
   ]
  },
  {
   "cell_type": "markdown",
   "metadata": {
    "heading_collapsed": true
   },
   "source": [
    "#### Array Tests"
   ]
  },
  {
   "cell_type": "code",
   "execution_count": 26,
   "metadata": {
    "hidden": true
   },
   "outputs": [],
   "source": [
    "a = np.array([[0,0,0,1,0], [0,1,0,1,0]])"
   ]
  },
  {
   "cell_type": "code",
   "execution_count": 27,
   "metadata": {
    "hidden": true
   },
   "outputs": [
    {
     "data": {
      "text/plain": [
       "array([0, 0, 0, 1, 0])"
      ]
     },
     "execution_count": 27,
     "metadata": {},
     "output_type": "execute_result"
    }
   ],
   "source": [
    "a[0]"
   ]
  },
  {
   "cell_type": "code",
   "execution_count": 29,
   "metadata": {
    "hidden": true
   },
   "outputs": [
    {
     "data": {
      "text/plain": [
       "array([0, 1])"
      ]
     },
     "execution_count": 29,
     "metadata": {},
     "output_type": "execute_result"
    }
   ],
   "source": [
    "a[:,1]"
   ]
  },
  {
   "cell_type": "code",
   "execution_count": 31,
   "metadata": {
    "hidden": true
   },
   "outputs": [],
   "source": [
    "a = np.array([0,0,0,1])"
   ]
  },
  {
   "cell_type": "code",
   "execution_count": 32,
   "metadata": {
    "hidden": true
   },
   "outputs": [],
   "source": [
    "b = a.tolist()"
   ]
  },
  {
   "cell_type": "code",
   "execution_count": 34,
   "metadata": {
    "hidden": true
   },
   "outputs": [],
   "source": [
    "b.insert(3,0)"
   ]
  },
  {
   "cell_type": "code",
   "execution_count": 35,
   "metadata": {
    "hidden": true
   },
   "outputs": [
    {
     "data": {
      "text/plain": [
       "[0, 0, 0, 0, 1]"
      ]
     },
     "execution_count": 35,
     "metadata": {},
     "output_type": "execute_result"
    }
   ],
   "source": [
    "b"
   ]
  },
  {
   "cell_type": "code",
   "execution_count": 36,
   "metadata": {
    "hidden": true
   },
   "outputs": [
    {
     "data": {
      "text/plain": [
       "array([0, 0, 0, 0, 1])"
      ]
     },
     "execution_count": 36,
     "metadata": {},
     "output_type": "execute_result"
    }
   ],
   "source": [
    "c = np.asarray(b)\n",
    "c"
   ]
  },
  {
   "cell_type": "code",
   "execution_count": 28,
   "metadata": {
    "hidden": true
   },
   "outputs": [],
   "source": [
    "import tensorflow\n",
    "import keras"
   ]
  },
  {
   "cell_type": "code",
   "execution_count": 29,
   "metadata": {
    "hidden": true
   },
   "outputs": [],
   "source": [
    "from keras.layers import Input, LSTM, Dense, Conv1D\n",
    "from keras.models import Model"
   ]
  },
  {
   "cell_type": "code",
   "execution_count": 39,
   "metadata": {
    "hidden": true
   },
   "outputs": [],
   "source": [
    "model_input_a = Input(shape=(3000,1))\n",
    "model_input_b = Input(shape=(3000,1))"
   ]
  },
  {
   "cell_type": "code",
   "execution_count": 40,
   "metadata": {
    "hidden": true
   },
   "outputs": [],
   "source": [
    "model_inputs = []\n",
    "model_inputs.append(model_input_a)\n",
    "model_inputs.append(model_input_b)"
   ]
  },
  {
   "cell_type": "code",
   "execution_count": 41,
   "metadata": {
    "hidden": true
   },
   "outputs": [],
   "source": [
    "layers_a = {}\n",
    "layers_a['a1'] = Conv1D(8,3)\n",
    "layers_a['a2'] = keras.layers.BatchNormalization()"
   ]
  },
  {
   "cell_type": "code",
   "execution_count": 42,
   "metadata": {
    "hidden": true
   },
   "outputs": [],
   "source": [
    "layers_b = {}\n",
    "layers_b['b1'] = Conv1D(8,3)\n",
    "layers_b['b2'] = keras.layers.BatchNormalization()\n",
    "layers_b['b3'] = keras.layers.Activation('relu')\n",
    "layers_b['b4'] = Conv1D(8,3)\n",
    "layers_b['b5'] = keras.layers.BatchNormalization()\n",
    "layers_b['b6'] = keras.layers.Activation('relu')\n",
    "layers_b['b7'] = Conv1D(16,3)\n",
    "layers_b['b8'] = keras.layers.BatchNormalization()"
   ]
  },
  {
   "cell_type": "code",
   "execution_count": 45,
   "metadata": {
    "hidden": true
   },
   "outputs": [],
   "source": [
    "layers_c = {}\n",
    "layers_c['c2'] = keras.layers.Activation('relu')"
   ]
  },
  {
   "cell_type": "code",
   "execution_count": null,
   "metadata": {
    "hidden": true
   },
   "outputs": [],
   "source": [
    "x1 = 0\n",
    "x1_short = 0\n",
    "x1_add = 0\n",
    "for i, layer in enumerate(layers_a.values()):\n",
    "    if i == 0:\n",
    "        x1_short = layer(model_input_a)\n",
    "    else:\n",
    "        x_short = layer(x_short)"
   ]
  },
  {
   "cell_type": "code",
   "execution_count": null,
   "metadata": {
    "hidden": true
   },
   "outputs": [],
   "source": [
    "for i, layer in enumerate(layers_b.values()):\n",
    "    if i == 0:\n",
    "        x1 = layer(model_input_a)\n",
    "    else:\n",
    "        x1 = layer(x1)"
   ]
  },
  {
   "cell_type": "code",
   "execution_count": null,
   "metadata": {
    "hidden": true
   },
   "outputs": [],
   "source": [
    "for i, layer in enumerate(layers_c.values()):\n",
    "    if i == 0:\n",
    "        x1_add = layer(x1, x1_short)\n",
    "    else:\n",
    "        x1_add = layer(x1_add)"
   ]
  },
  {
   "cell_type": "code",
   "execution_count": 46,
   "metadata": {
    "hidden": true
   },
   "outputs": [
    {
     "ename": "ValueError",
     "evalue": "Operands could not be broadcast together with shapes (2994, 16) (2998, 8)",
     "output_type": "error",
     "traceback": [
      "\u001b[1;31m---------------------------------------------------------------------------\u001b[0m",
      "\u001b[1;31mValueError\u001b[0m                                Traceback (most recent call last)",
      "\u001b[1;32m<ipython-input-46-c8526e960b77>\u001b[0m in \u001b[0;36m<module>\u001b[1;34m\u001b[0m\n\u001b[0;32m     15\u001b[0m         \u001b[1;32melse\u001b[0m\u001b[1;33m:\u001b[0m\u001b[1;33m\u001b[0m\u001b[1;33m\u001b[0m\u001b[0m\n\u001b[0;32m     16\u001b[0m             \u001b[0mx1\u001b[0m \u001b[1;33m=\u001b[0m \u001b[0mlayer\u001b[0m\u001b[1;33m(\u001b[0m\u001b[0mx1\u001b[0m\u001b[1;33m)\u001b[0m\u001b[1;33m\u001b[0m\u001b[1;33m\u001b[0m\u001b[0m\n\u001b[1;32m---> 17\u001b[1;33m     \u001b[0mx1_add\u001b[0m \u001b[1;33m=\u001b[0m \u001b[0mkeras\u001b[0m\u001b[1;33m.\u001b[0m\u001b[0mlayers\u001b[0m\u001b[1;33m.\u001b[0m\u001b[0madd\u001b[0m\u001b[1;33m(\u001b[0m\u001b[1;33m[\u001b[0m\u001b[0mx1\u001b[0m\u001b[1;33m,\u001b[0m \u001b[0mx1_short\u001b[0m\u001b[1;33m]\u001b[0m\u001b[1;33m)\u001b[0m\u001b[1;33m\u001b[0m\u001b[1;33m\u001b[0m\u001b[0m\n\u001b[0m\u001b[0;32m     18\u001b[0m     \u001b[1;32mfor\u001b[0m \u001b[0mi\u001b[0m\u001b[1;33m,\u001b[0m \u001b[0mlayer\u001b[0m \u001b[1;32min\u001b[0m \u001b[0menumerate\u001b[0m\u001b[1;33m(\u001b[0m\u001b[0mlayers_c\u001b[0m\u001b[1;33m.\u001b[0m\u001b[0mvalues\u001b[0m\u001b[1;33m(\u001b[0m\u001b[1;33m)\u001b[0m\u001b[1;33m)\u001b[0m\u001b[1;33m:\u001b[0m\u001b[1;33m\u001b[0m\u001b[1;33m\u001b[0m\u001b[0m\n\u001b[0;32m     19\u001b[0m         \u001b[0mx1_add\u001b[0m \u001b[1;33m=\u001b[0m \u001b[0mlayer\u001b[0m\u001b[1;33m(\u001b[0m\u001b[0mx1_add\u001b[0m\u001b[1;33m)\u001b[0m\u001b[1;33m\u001b[0m\u001b[1;33m\u001b[0m\u001b[0m\n",
      "\u001b[1;32m~\\Anaconda3\\envs\\mlbase\\lib\\site-packages\\keras\\layers\\merge.py\u001b[0m in \u001b[0;36madd\u001b[1;34m(inputs, **kwargs)\u001b[0m\n\u001b[0;32m    553\u001b[0m     \u001b[0;31m`\u001b[0m\u001b[0;31m`\u001b[0m\u001b[0;31m`\u001b[0m\u001b[1;33m\u001b[0m\u001b[1;33m\u001b[0m\u001b[0m\n\u001b[0;32m    554\u001b[0m     \"\"\"\n\u001b[1;32m--> 555\u001b[1;33m     \u001b[1;32mreturn\u001b[0m \u001b[0mAdd\u001b[0m\u001b[1;33m(\u001b[0m\u001b[1;33m**\u001b[0m\u001b[0mkwargs\u001b[0m\u001b[1;33m)\u001b[0m\u001b[1;33m(\u001b[0m\u001b[0minputs\u001b[0m\u001b[1;33m)\u001b[0m\u001b[1;33m\u001b[0m\u001b[1;33m\u001b[0m\u001b[0m\n\u001b[0m\u001b[0;32m    556\u001b[0m \u001b[1;33m\u001b[0m\u001b[0m\n\u001b[0;32m    557\u001b[0m \u001b[1;33m\u001b[0m\u001b[0m\n",
      "\u001b[1;32m~\\Anaconda3\\envs\\mlbase\\lib\\site-packages\\keras\\engine\\base_layer.py\u001b[0m in \u001b[0;36m__call__\u001b[1;34m(self, inputs, **kwargs)\u001b[0m\n\u001b[0;32m    429\u001b[0m                                          \u001b[1;34m'You can build it manually via: '\u001b[0m\u001b[1;33m\u001b[0m\u001b[1;33m\u001b[0m\u001b[0m\n\u001b[0;32m    430\u001b[0m                                          '`layer.build(batch_input_shape)`')\n\u001b[1;32m--> 431\u001b[1;33m                 \u001b[0mself\u001b[0m\u001b[1;33m.\u001b[0m\u001b[0mbuild\u001b[0m\u001b[1;33m(\u001b[0m\u001b[0munpack_singleton\u001b[0m\u001b[1;33m(\u001b[0m\u001b[0minput_shapes\u001b[0m\u001b[1;33m)\u001b[0m\u001b[1;33m)\u001b[0m\u001b[1;33m\u001b[0m\u001b[1;33m\u001b[0m\u001b[0m\n\u001b[0m\u001b[0;32m    432\u001b[0m                 \u001b[0mself\u001b[0m\u001b[1;33m.\u001b[0m\u001b[0mbuilt\u001b[0m \u001b[1;33m=\u001b[0m \u001b[1;32mTrue\u001b[0m\u001b[1;33m\u001b[0m\u001b[1;33m\u001b[0m\u001b[0m\n\u001b[0;32m    433\u001b[0m \u001b[1;33m\u001b[0m\u001b[0m\n",
      "\u001b[1;32m~\\Anaconda3\\envs\\mlbase\\lib\\site-packages\\keras\\layers\\merge.py\u001b[0m in \u001b[0;36mbuild\u001b[1;34m(self, input_shape)\u001b[0m\n\u001b[0;32m     89\u001b[0m                 \u001b[0mshape\u001b[0m \u001b[1;33m=\u001b[0m \u001b[0minput_shape\u001b[0m\u001b[1;33m[\u001b[0m\u001b[0mi\u001b[0m\u001b[1;33m]\u001b[0m\u001b[1;33m[\u001b[0m\u001b[1;36m1\u001b[0m\u001b[1;33m:\u001b[0m\u001b[1;33m]\u001b[0m\u001b[1;33m\u001b[0m\u001b[1;33m\u001b[0m\u001b[0m\n\u001b[0;32m     90\u001b[0m             output_shape = self._compute_elemwise_op_output_shape(output_shape,\n\u001b[1;32m---> 91\u001b[1;33m                                                                   shape)\n\u001b[0m\u001b[0;32m     92\u001b[0m         \u001b[1;31m# If the inputs have different ranks, we have to reshape them\u001b[0m\u001b[1;33m\u001b[0m\u001b[1;33m\u001b[0m\u001b[1;33m\u001b[0m\u001b[0m\n\u001b[0;32m     93\u001b[0m         \u001b[1;31m# to make them broadcastable.\u001b[0m\u001b[1;33m\u001b[0m\u001b[1;33m\u001b[0m\u001b[1;33m\u001b[0m\u001b[0m\n",
      "\u001b[1;32m~\\Anaconda3\\envs\\mlbase\\lib\\site-packages\\keras\\layers\\merge.py\u001b[0m in \u001b[0;36m_compute_elemwise_op_output_shape\u001b[1;34m(self, shape1, shape2)\u001b[0m\n\u001b[0;32m     59\u001b[0m                     raise ValueError('Operands could not be broadcast '\n\u001b[0;32m     60\u001b[0m                                      \u001b[1;34m'together with shapes '\u001b[0m \u001b[1;33m+\u001b[0m\u001b[1;33m\u001b[0m\u001b[1;33m\u001b[0m\u001b[0m\n\u001b[1;32m---> 61\u001b[1;33m                                      str(shape1) + ' ' + str(shape2))\n\u001b[0m\u001b[0;32m     62\u001b[0m                 \u001b[0moutput_shape\u001b[0m\u001b[1;33m.\u001b[0m\u001b[0mappend\u001b[0m\u001b[1;33m(\u001b[0m\u001b[0mi\u001b[0m\u001b[1;33m)\u001b[0m\u001b[1;33m\u001b[0m\u001b[1;33m\u001b[0m\u001b[0m\n\u001b[0;32m     63\u001b[0m         \u001b[1;32mreturn\u001b[0m \u001b[0mtuple\u001b[0m\u001b[1;33m(\u001b[0m\u001b[0moutput_shape\u001b[0m\u001b[1;33m)\u001b[0m\u001b[1;33m\u001b[0m\u001b[1;33m\u001b[0m\u001b[0m\n",
      "\u001b[1;31mValueError\u001b[0m: Operands could not be broadcast together with shapes (2994, 16) (2998, 8)"
     ]
    }
   ],
   "source": [
    "output_layers = []\n",
    "\n",
    "for model_input in model_inputs:\n",
    "    x1 = 0\n",
    "    x1_short = 0\n",
    "    x1_add = 0\n",
    "    for i, layer in enumerate(layers_a.values()):\n",
    "        if i == 0:\n",
    "            x1_short = layer(model_input_a)\n",
    "        else:\n",
    "            x1_short = layer(x1_short)\n",
    "    for i, layer in enumerate(layers_b.values()):\n",
    "        if i == 0:\n",
    "            x1 = layer(model_input_a)\n",
    "        else:\n",
    "            x1 = layer(x1)\n",
    "    x1_add = keras.layers.add([x1, x1_short])\n",
    "    for i, layer in enumerate(layers_c.values()):\n",
    "        x1_add = layer(x1_add)\n",
    "    output_layers.append(x1_add)"
   ]
  },
  {
   "cell_type": "code",
   "execution_count": null,
   "metadata": {
    "hidden": true
   },
   "outputs": [],
   "source": []
  },
  {
   "cell_type": "code",
   "execution_count": null,
   "metadata": {
    "hidden": true
   },
   "outputs": [],
   "source": []
  },
  {
   "cell_type": "code",
   "execution_count": 22,
   "metadata": {
    "hidden": true
   },
   "outputs": [
    {
     "name": "stderr",
     "output_type": "stream",
     "text": [
      "W0519 10:50:30.976945 10764 deprecation_wrapper.py:119] From C:\\Users\\sa6pr7\\Anaconda3\\envs\\mlbase\\lib\\site-packages\\keras\\backend\\tensorflow_backend.py:133: The name tf.placeholder_with_default is deprecated. Please use tf.compat.v1.placeholder_with_default instead.\n",
      "\n"
     ]
    }
   ],
   "source": [
    "x = 0\n",
    "for i, layer in enumerate(layers):\n",
    "    if i == 0:\n",
    "        x = layer(model_input_a)\n",
    "    else:\n",
    "        x = layer(x)"
   ]
  },
  {
   "cell_type": "code",
   "execution_count": 23,
   "metadata": {
    "hidden": true
   },
   "outputs": [],
   "source": [
    "xb = 0\n",
    "for i, layer in enumerate(layers):\n",
    "    if i == 0:\n",
    "        xb = layer(model_input_b)\n",
    "    else:\n",
    "        xb = layer(xb)"
   ]
  },
  {
   "cell_type": "code",
   "execution_count": 7,
   "metadata": {
    "hidden": true
   },
   "outputs": [
    {
     "name": "stderr",
     "output_type": "stream",
     "text": [
      "W0519 10:38:53.518033 10764 deprecation_wrapper.py:119] From C:\\Users\\sa6pr7\\Anaconda3\\envs\\mlbase\\lib\\site-packages\\keras\\backend\\tensorflow_backend.py:4138: The name tf.random_uniform is deprecated. Please use tf.random.uniform instead.\n",
      "\n"
     ]
    }
   ],
   "source": [
    "branch_a = shared_bn(model_input_a)\n",
    "branch_b = shared_bn(model_input_b)"
   ]
  },
  {
   "cell_type": "code",
   "execution_count": 24,
   "metadata": {
    "hidden": true
   },
   "outputs": [],
   "source": [
    "merged_vector = keras.layers.concatenate(output_layers, axis=-1)"
   ]
  },
  {
   "cell_type": "code",
   "execution_count": 25,
   "metadata": {
    "hidden": true
   },
   "outputs": [],
   "source": [
    "predictions = Dense(1, activation='sigmoid')(merged_vector)"
   ]
  },
  {
   "cell_type": "code",
   "execution_count": 26,
   "metadata": {
    "hidden": true
   },
   "outputs": [],
   "source": [
    "model = Model(inputs=[model_input_a, model_input_b], outputs=predictions)"
   ]
  },
  {
   "cell_type": "code",
   "execution_count": 27,
   "metadata": {
    "hidden": true
   },
   "outputs": [
    {
     "name": "stdout",
     "output_type": "stream",
     "text": [
      "__________________________________________________________________________________________________\n",
      "Layer (type)                    Output Shape         Param #     Connected to                     \n",
      "==================================================================================================\n",
      "input_5 (InputLayer)            (None, 3000, 1)      0                                            \n",
      "__________________________________________________________________________________________________\n",
      "input_6 (InputLayer)            (None, 3000, 1)      0                                            \n",
      "__________________________________________________________________________________________________\n",
      "conv1d_5 (Conv1D)               (None, 2998, 8)      32          input_5[0][0]                    \n",
      "                                                                 input_6[0][0]                    \n",
      "__________________________________________________________________________________________________\n",
      "batch_normalization_4 (BatchNor (None, 2998, 8)      32          conv1d_5[0][0]                   \n",
      "                                                                 conv1d_5[1][0]                   \n",
      "__________________________________________________________________________________________________\n",
      "activation_1 (Activation)       (None, 2998, 8)      0           batch_normalization_4[0][0]      \n",
      "                                                                 batch_normalization_4[1][0]      \n",
      "__________________________________________________________________________________________________\n",
      "concatenate_2 (Concatenate)     (None, 2998, 16)     0           activation_1[0][0]               \n",
      "                                                                 activation_1[1][0]               \n",
      "__________________________________________________________________________________________________\n",
      "dense_2 (Dense)                 (None, 2998, 1)      17          concatenate_2[0][0]              \n",
      "==================================================================================================\n",
      "Total params: 81\n",
      "Trainable params: 65\n",
      "Non-trainable params: 16\n",
      "__________________________________________________________________________________________________\n"
     ]
    }
   ],
   "source": [
    "model.compile(optimizer='rmsprop',\n",
    "              loss='binary_crossentropy',\n",
    "              metrics=['accuracy'])\n",
    "model.summary()"
   ]
  },
  {
   "cell_type": "code",
   "execution_count": null,
   "metadata": {
    "hidden": true
   },
   "outputs": [],
   "source": []
  }
 ],
 "metadata": {
  "kernelspec": {
   "display_name": "Python 3",
   "language": "python",
   "name": "python3"
  },
  "language_info": {
   "codemirror_mode": {
    "name": "ipython",
    "version": 3
   },
   "file_extension": ".py",
   "mimetype": "text/x-python",
   "name": "python",
   "nbconvert_exporter": "python",
   "pygments_lexer": "ipython3",
   "version": "3.7.0"
  }
 },
 "nbformat": 4,
 "nbformat_minor": 4
}
